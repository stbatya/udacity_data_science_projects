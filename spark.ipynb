{
 "cells": [
  {
   "cell_type": "markdown",
   "metadata": {},
   "source": [
    "This task uses generated data that imitates Spotify logs"
   ]
  },
  {
   "cell_type": "code",
   "execution_count": 1,
   "metadata": {},
   "outputs": [],
   "source": [
    "import matplotlib.pyplot as plt\n",
    "import numpy as np\n",
    "import pandas as pd\n",
    "import pickle as pkl\n",
    "import os\n",
    "from tqdm import *\n",
    "\n",
    "from time import time\n",
    "\n",
    "from pyspark.sql import SparkSession\n",
    "from pyspark.sql.functions import udf, col\n",
    "\n",
    "from pyspark.ml.feature import VectorAssembler, Normalizer\n",
    "from pyspark.ml.classification import LogisticRegression, DecisionTreeClassifier, LinearSVC\n",
    "from pyspark.ml.tuning import CrossValidator, ParamGridBuilder, CrossValidatorModel\n",
    "from pyspark.ml.evaluation import BinaryClassificationEvaluator\n",
    "\n",
    "plt.style.use(\"seaborn\")\n",
    "color_cycle = plt.rcParams['axes.prop_cycle'].by_key()['color']"
   ]
  },
  {
   "cell_type": "code",
   "execution_count": 2,
   "metadata": {},
   "outputs": [],
   "source": [
    "def print_cm(tp, tn, fp, fn, print_cm=True, return_cm=False):\n",
    "    '''print confusion matrix'''\n",
    "    cm = np.array([[tp, fp],\n",
    "                   [fn, tn]])\n",
    "\n",
    "    if print_cm:\n",
    "        print(cm)\n",
    "    \n",
    "    if return_cm:\n",
    "        return cm"
   ]
  },
  {
   "cell_type": "code",
   "execution_count": 3,
   "metadata": {},
   "outputs": [],
   "source": [
    "\n",
    "\n",
    "def get_classification_score(tp, tn, fp, fn, print_stats=True, return_stats=False):\n",
    "\n",
    "    \n",
    "    accuracy = (tp+tn)/(tp+tn+fp+fn)\n",
    "\n",
    "    try: precision = tp / (tp + fp) \n",
    "    except ZeroDivisionError: precision = np.NaN\n",
    "\n",
    "    try: recall = tp / (tp + fn)\n",
    "    except ZeroDivisionError: recall = np.NaN\n",
    "    \n",
    "    try: f1 = 2*precision*recall / (precision+recall)\n",
    "    except ZeroDivisionError: f1 = np.NaN\n",
    "        \n",
    "    if print_stats:\n",
    "        print(\"_________________\")\n",
    "        print(\"\\tAccuracy:\", accuracy)\n",
    "        print(\"\\tPrecision:\", precision)\n",
    "        print(\"\\tRecall:\",recall)\n",
    "        print(\"\\tF1 Score:\", f1)\n",
    "        print(\"_________________\")\n",
    "        \n",
    "    if return_stats:\n",
    "        return accuracy, precision, recall, f1\n",
    "\n"
   ]
  },
  {
   "cell_type": "code",
   "execution_count": 4,
   "metadata": {},
   "outputs": [
    {
     "name": "stderr",
     "output_type": "stream",
     "text": [
      "22/09/26 16:07:58 WARN Utils: Your hostname, k resolves to a loopback address: 127.0.1.1; using 10.4.9.55 instead (on interface enp0s3)\n",
      "22/09/26 16:07:58 WARN Utils: Set SPARK_LOCAL_IP if you need to bind to another address\n",
      "WARNING: An illegal reflective access operation has occurred\n",
      "WARNING: Illegal reflective access by org.apache.spark.unsafe.Platform (file:/home/k/.local/lib/python3.9/site-packages/pyspark/jars/spark-unsafe_2.12-3.2.1.jar) to constructor java.nio.DirectByteBuffer(long,int)\n",
      "WARNING: Please consider reporting this to the maintainers of org.apache.spark.unsafe.Platform\n",
      "WARNING: Use --illegal-access=warn to enable warnings of further illegal reflective access operations\n",
      "WARNING: All illegal access operations will be denied in a future release\n",
      "Using Spark's default log4j profile: org/apache/spark/log4j-defaults.properties\n",
      "Setting default log level to \"WARN\".\n",
      "To adjust logging level use sc.setLogLevel(newLevel). For SparkR, use setLogLevel(newLevel).\n",
      "22/09/26 16:07:58 WARN NativeCodeLoader: Unable to load native-hadoop library for your platform... using builtin-java classes where applicable\n"
     ]
    }
   ],
   "source": [
    "spark = SparkSession.builder.master(\"local\").appName(\"Sparkify\").getOrCreate()"
   ]
  },
  {
   "cell_type": "code",
   "execution_count": 5,
   "metadata": {},
   "outputs": [
    {
     "name": "stderr",
     "output_type": "stream",
     "text": [
      "                                                                                \r"
     ]
    }
   ],
   "source": [
    "df = spark.read.json(\"mini_sparkify_event_data.json\")\n",
    "df.persist();"
   ]
  },
  {
   "cell_type": "markdown",
   "metadata": {},
   "source": [
    "Let us take a look at data schema "
   ]
  },
  {
   "cell_type": "code",
   "execution_count": 6,
   "metadata": {},
   "outputs": [
    {
     "name": "stdout",
     "output_type": "stream",
     "text": [
      "root\n",
      " |-- artist: string (nullable = true)\n",
      " |-- auth: string (nullable = true)\n",
      " |-- firstName: string (nullable = true)\n",
      " |-- gender: string (nullable = true)\n",
      " |-- itemInSession: long (nullable = true)\n",
      " |-- lastName: string (nullable = true)\n",
      " |-- length: double (nullable = true)\n",
      " |-- level: string (nullable = true)\n",
      " |-- location: string (nullable = true)\n",
      " |-- method: string (nullable = true)\n",
      " |-- page: string (nullable = true)\n",
      " |-- registration: long (nullable = true)\n",
      " |-- sessionId: long (nullable = true)\n",
      " |-- song: string (nullable = true)\n",
      " |-- status: long (nullable = true)\n",
      " |-- ts: long (nullable = true)\n",
      " |-- userAgent: string (nullable = true)\n",
      " |-- userId: string (nullable = true)\n",
      "\n"
     ]
    }
   ],
   "source": [
    "df.printSchema()"
   ]
  },
  {
   "cell_type": "markdown",
   "metadata": {},
   "source": [
    "and a few rows"
   ]
  },
  {
   "cell_type": "code",
   "execution_count": 7,
   "metadata": {},
   "outputs": [
    {
     "name": "stderr",
     "output_type": "stream",
     "text": [
      "                                                                                \r"
     ]
    },
    {
     "data": {
      "text/plain": [
       "[Row(artist='Martha Tilston', auth='Logged In', firstName='Colin', gender='M', itemInSession=50, lastName='Freeman', length=277.89016, level='paid', location='Bakersfield, CA', method='PUT', page='NextSong', registration=1538173362000, sessionId=29, song='Rockpools', status=200, ts=1538352117000, userAgent='Mozilla/5.0 (Windows NT 6.1; WOW64; rv:31.0) Gecko/20100101 Firefox/31.0', userId='30'),\n",
       " Row(artist='Five Iron Frenzy', auth='Logged In', firstName='Micah', gender='M', itemInSession=79, lastName='Long', length=236.09424, level='free', location='Boston-Cambridge-Newton, MA-NH', method='PUT', page='NextSong', registration=1538331630000, sessionId=8, song='Canada', status=200, ts=1538352180000, userAgent='\"Mozilla/5.0 (Windows NT 6.1; WOW64) AppleWebKit/537.36 (KHTML, like Gecko) Chrome/37.0.2062.103 Safari/537.36\"', userId='9'),\n",
       " Row(artist='Adam Lambert', auth='Logged In', firstName='Colin', gender='M', itemInSession=51, lastName='Freeman', length=282.8273, level='paid', location='Bakersfield, CA', method='PUT', page='NextSong', registration=1538173362000, sessionId=29, song='Time For Miracles', status=200, ts=1538352394000, userAgent='Mozilla/5.0 (Windows NT 6.1; WOW64; rv:31.0) Gecko/20100101 Firefox/31.0', userId='30'),\n",
       " Row(artist='Enigma', auth='Logged In', firstName='Micah', gender='M', itemInSession=80, lastName='Long', length=262.71302, level='free', location='Boston-Cambridge-Newton, MA-NH', method='PUT', page='NextSong', registration=1538331630000, sessionId=8, song='Knocking On Forbidden Doors', status=200, ts=1538352416000, userAgent='\"Mozilla/5.0 (Windows NT 6.1; WOW64) AppleWebKit/537.36 (KHTML, like Gecko) Chrome/37.0.2062.103 Safari/537.36\"', userId='9'),\n",
       " Row(artist='Daft Punk', auth='Logged In', firstName='Colin', gender='M', itemInSession=52, lastName='Freeman', length=223.60771, level='paid', location='Bakersfield, CA', method='PUT', page='NextSong', registration=1538173362000, sessionId=29, song='Harder Better Faster Stronger', status=200, ts=1538352676000, userAgent='Mozilla/5.0 (Windows NT 6.1; WOW64; rv:31.0) Gecko/20100101 Firefox/31.0', userId='30')]"
      ]
     },
     "execution_count": 7,
     "metadata": {},
     "output_type": "execute_result"
    }
   ],
   "source": [
    "df.head(5)"
   ]
  },
  {
   "cell_type": "code",
   "execution_count": 8,
   "metadata": {},
   "outputs": [
    {
     "name": "stdout",
     "output_type": "stream",
     "text": [
      "+----------------+---------+---------+------+-------------+--------+---------+-----+--------------------+------+--------+-------------+---------+--------------------+------+-------------+--------------------+------+\n",
      "|          artist|     auth|firstName|gender|itemInSession|lastName|   length|level|            location|method|    page| registration|sessionId|                song|status|           ts|           userAgent|userId|\n",
      "+----------------+---------+---------+------+-------------+--------+---------+-----+--------------------+------+--------+-------------+---------+--------------------+------+-------------+--------------------+------+\n",
      "|  Martha Tilston|Logged In|    Colin|     M|           50| Freeman|277.89016| paid|     Bakersfield, CA|   PUT|NextSong|1538173362000|       29|           Rockpools|   200|1538352117000|Mozilla/5.0 (Wind...|    30|\n",
      "|Five Iron Frenzy|Logged In|    Micah|     M|           79|    Long|236.09424| free|Boston-Cambridge-...|   PUT|NextSong|1538331630000|        8|              Canada|   200|1538352180000|\"Mozilla/5.0 (Win...|     9|\n",
      "|    Adam Lambert|Logged In|    Colin|     M|           51| Freeman| 282.8273| paid|     Bakersfield, CA|   PUT|NextSong|1538173362000|       29|   Time For Miracles|   200|1538352394000|Mozilla/5.0 (Wind...|    30|\n",
      "|          Enigma|Logged In|    Micah|     M|           80|    Long|262.71302| free|Boston-Cambridge-...|   PUT|NextSong|1538331630000|        8|Knocking On Forbi...|   200|1538352416000|\"Mozilla/5.0 (Win...|     9|\n",
      "|       Daft Punk|Logged In|    Colin|     M|           52| Freeman|223.60771| paid|     Bakersfield, CA|   PUT|NextSong|1538173362000|       29|Harder Better Fas...|   200|1538352676000|Mozilla/5.0 (Wind...|    30|\n",
      "+----------------+---------+---------+------+-------------+--------+---------+-----+--------------------+------+--------+-------------+---------+--------------------+------+-------------+--------------------+------+\n",
      "only showing top 5 rows\n",
      "\n"
     ]
    }
   ],
   "source": [
    "df.show(5)"
   ]
  },
  {
   "cell_type": "code",
   "execution_count": 9,
   "metadata": {},
   "outputs": [
    {
     "name": "stderr",
     "output_type": "stream",
     "text": [
      "                                                                                \r"
     ]
    },
    {
     "data": {
      "text/html": [
       "<div>\n",
       "<style scoped>\n",
       "    .dataframe tbody tr th:only-of-type {\n",
       "        vertical-align: middle;\n",
       "    }\n",
       "\n",
       "    .dataframe tbody tr th {\n",
       "        vertical-align: top;\n",
       "    }\n",
       "\n",
       "    .dataframe thead th {\n",
       "        text-align: right;\n",
       "    }\n",
       "</style>\n",
       "<table border=\"1\" class=\"dataframe\">\n",
       "  <thead>\n",
       "    <tr style=\"text-align: right;\">\n",
       "      <th></th>\n",
       "      <th>summary</th>\n",
       "      <th>count</th>\n",
       "      <th>mean</th>\n",
       "      <th>stddev</th>\n",
       "      <th>min</th>\n",
       "      <th>max</th>\n",
       "    </tr>\n",
       "  </thead>\n",
       "  <tbody>\n",
       "    <tr>\n",
       "      <th>1</th>\n",
       "      <td>artist</td>\n",
       "      <td>228108</td>\n",
       "      <td>551.0852017937219</td>\n",
       "      <td>1217.7693079161374</td>\n",
       "      <td>!!!</td>\n",
       "      <td>ÃÂlafur Arnalds</td>\n",
       "    </tr>\n",
       "    <tr>\n",
       "      <th>2</th>\n",
       "      <td>auth</td>\n",
       "      <td>286500</td>\n",
       "      <td>None</td>\n",
       "      <td>None</td>\n",
       "      <td>Cancelled</td>\n",
       "      <td>Logged Out</td>\n",
       "    </tr>\n",
       "    <tr>\n",
       "      <th>3</th>\n",
       "      <td>firstName</td>\n",
       "      <td>278154</td>\n",
       "      <td>None</td>\n",
       "      <td>None</td>\n",
       "      <td>Adelaida</td>\n",
       "      <td>Zyonna</td>\n",
       "    </tr>\n",
       "    <tr>\n",
       "      <th>4</th>\n",
       "      <td>gender</td>\n",
       "      <td>278154</td>\n",
       "      <td>None</td>\n",
       "      <td>None</td>\n",
       "      <td>F</td>\n",
       "      <td>M</td>\n",
       "    </tr>\n",
       "    <tr>\n",
       "      <th>5</th>\n",
       "      <td>itemInSession</td>\n",
       "      <td>286500</td>\n",
       "      <td>114.41421291448516</td>\n",
       "      <td>129.76726201140994</td>\n",
       "      <td>0</td>\n",
       "      <td>1321</td>\n",
       "    </tr>\n",
       "    <tr>\n",
       "      <th>6</th>\n",
       "      <td>lastName</td>\n",
       "      <td>278154</td>\n",
       "      <td>None</td>\n",
       "      <td>None</td>\n",
       "      <td>Adams</td>\n",
       "      <td>Wright</td>\n",
       "    </tr>\n",
       "    <tr>\n",
       "      <th>7</th>\n",
       "      <td>length</td>\n",
       "      <td>228108</td>\n",
       "      <td>249.1171819778458</td>\n",
       "      <td>99.23517921058361</td>\n",
       "      <td>0.78322</td>\n",
       "      <td>3024.66567</td>\n",
       "    </tr>\n",
       "    <tr>\n",
       "      <th>8</th>\n",
       "      <td>level</td>\n",
       "      <td>286500</td>\n",
       "      <td>None</td>\n",
       "      <td>None</td>\n",
       "      <td>free</td>\n",
       "      <td>paid</td>\n",
       "    </tr>\n",
       "    <tr>\n",
       "      <th>9</th>\n",
       "      <td>location</td>\n",
       "      <td>278154</td>\n",
       "      <td>None</td>\n",
       "      <td>None</td>\n",
       "      <td>Albany, OR</td>\n",
       "      <td>Winston-Salem, NC</td>\n",
       "    </tr>\n",
       "    <tr>\n",
       "      <th>10</th>\n",
       "      <td>method</td>\n",
       "      <td>286500</td>\n",
       "      <td>None</td>\n",
       "      <td>None</td>\n",
       "      <td>GET</td>\n",
       "      <td>PUT</td>\n",
       "    </tr>\n",
       "    <tr>\n",
       "      <th>11</th>\n",
       "      <td>page</td>\n",
       "      <td>286500</td>\n",
       "      <td>None</td>\n",
       "      <td>None</td>\n",
       "      <td>About</td>\n",
       "      <td>Upgrade</td>\n",
       "    </tr>\n",
       "    <tr>\n",
       "      <th>12</th>\n",
       "      <td>registration</td>\n",
       "      <td>278154</td>\n",
       "      <td>1.5353588340844272E12</td>\n",
       "      <td>3.291321616327586E9</td>\n",
       "      <td>1521380675000</td>\n",
       "      <td>1543247354000</td>\n",
       "    </tr>\n",
       "    <tr>\n",
       "      <th>13</th>\n",
       "      <td>sessionId</td>\n",
       "      <td>286500</td>\n",
       "      <td>1041.526554973822</td>\n",
       "      <td>726.7762634630741</td>\n",
       "      <td>1</td>\n",
       "      <td>2474</td>\n",
       "    </tr>\n",
       "    <tr>\n",
       "      <th>14</th>\n",
       "      <td>song</td>\n",
       "      <td>228108</td>\n",
       "      <td>Infinity</td>\n",
       "      <td>NaN</td>\n",
       "      <td>ÃÂg ÃÂtti GrÃÂ¡a ÃÂsku</td>\n",
       "      <td>ÃÂau hafa sloppiÃÂ° undan ÃÂ¾unga myrkursins</td>\n",
       "    </tr>\n",
       "    <tr>\n",
       "      <th>15</th>\n",
       "      <td>status</td>\n",
       "      <td>286500</td>\n",
       "      <td>210.05459685863875</td>\n",
       "      <td>31.50507848842214</td>\n",
       "      <td>200</td>\n",
       "      <td>404</td>\n",
       "    </tr>\n",
       "    <tr>\n",
       "      <th>16</th>\n",
       "      <td>ts</td>\n",
       "      <td>286500</td>\n",
       "      <td>1.5409568898104834E12</td>\n",
       "      <td>1.5075439608226302E9</td>\n",
       "      <td>1538352117000</td>\n",
       "      <td>1543799476000</td>\n",
       "    </tr>\n",
       "    <tr>\n",
       "      <th>17</th>\n",
       "      <td>userAgent</td>\n",
       "      <td>278154</td>\n",
       "      <td>None</td>\n",
       "      <td>None</td>\n",
       "      <td>\"Mozilla/5.0 (Macintosh; Intel Mac OS X 10_10)...</td>\n",
       "      <td>Mozilla/5.0 (compatible; MSIE 9.0; Windows NT ...</td>\n",
       "    </tr>\n",
       "    <tr>\n",
       "      <th>18</th>\n",
       "      <td>userId</td>\n",
       "      <td>286500</td>\n",
       "      <td>59682.02278593872</td>\n",
       "      <td>109091.9499991047</td>\n",
       "      <td></td>\n",
       "      <td>99</td>\n",
       "    </tr>\n",
       "  </tbody>\n",
       "</table>\n",
       "</div>"
      ],
      "text/plain": [
       "0         summary   count                   mean                stddev  \\\n",
       "1          artist  228108      551.0852017937219    1217.7693079161374   \n",
       "2            auth  286500                   None                  None   \n",
       "3       firstName  278154                   None                  None   \n",
       "4          gender  278154                   None                  None   \n",
       "5   itemInSession  286500     114.41421291448516    129.76726201140994   \n",
       "6        lastName  278154                   None                  None   \n",
       "7          length  228108      249.1171819778458     99.23517921058361   \n",
       "8           level  286500                   None                  None   \n",
       "9        location  278154                   None                  None   \n",
       "10         method  286500                   None                  None   \n",
       "11           page  286500                   None                  None   \n",
       "12   registration  278154  1.5353588340844272E12   3.291321616327586E9   \n",
       "13      sessionId  286500      1041.526554973822     726.7762634630741   \n",
       "14           song  228108               Infinity                   NaN   \n",
       "15         status  286500     210.05459685863875     31.50507848842214   \n",
       "16             ts  286500  1.5409568898104834E12  1.5075439608226302E9   \n",
       "17      userAgent  278154                   None                  None   \n",
       "18         userId  286500      59682.02278593872     109091.9499991047   \n",
       "\n",
       "0                                                 min  \\\n",
       "1                                                 !!!   \n",
       "2                                           Cancelled   \n",
       "3                                            Adelaida   \n",
       "4                                                   F   \n",
       "5                                                   0   \n",
       "6                                               Adams   \n",
       "7                                             0.78322   \n",
       "8                                                free   \n",
       "9                                          Albany, OR   \n",
       "10                                                GET   \n",
       "11                                              About   \n",
       "12                                      1521380675000   \n",
       "13                                                  1   \n",
       "14                     \n",
       "ÃÂg ÃÂtti GrÃÂ¡a ÃÂsku   \n",
       "15                                                200   \n",
       "16                                      1538352117000   \n",
       "17  \"Mozilla/5.0 (Macintosh; Intel Mac OS X 10_10)...   \n",
       "18                                                      \n",
       "\n",
       "0                                                 max  \n",
       "1                                   ÃÂlafur Arnalds  \n",
       "2                                          Logged Out  \n",
       "3                                              Zyonna  \n",
       "4                                                   M  \n",
       "5                                                1321  \n",
       "6                                              Wright  \n",
       "7                                          3024.66567  \n",
       "8                                                paid  \n",
       "9                                   Winston-Salem, NC  \n",
       "10                                                PUT  \n",
       "11                                            Upgrade  \n",
       "12                                      1543247354000  \n",
       "13                                               2474  \n",
       "14   ÃÂau hafa sloppiÃÂ° undan ÃÂ¾unga myrkursins  \n",
       "15                                                404  \n",
       "16                                      1543799476000  \n",
       "17  Mozilla/5.0 (compatible; MSIE 9.0; Windows NT ...  \n",
       "18                                                 99  "
      ]
     },
     "execution_count": 9,
     "metadata": {},
     "output_type": "execute_result"
    }
   ],
   "source": [
    "spark_description = df.describe().collect()\n",
    "\n",
    "description_dict = dict()\n",
    "for i in spark_description:\n",
    "    \n",
    "    # Turn i into dictionary\n",
    "    i = i.asDict()\n",
    "    \n",
    "    for k, v in i.items():\n",
    "        try:\n",
    "            description_dict[k].append(v)\n",
    "        except KeyError:\n",
    "            description_dict[k] = []\n",
    "            description_dict[k].append(v)\n",
    "\n",
    "df_desc = pd.DataFrame(description_dict).T.reset_index()\n",
    "df_desc.columns = df_desc.iloc[0]\n",
    "df_desc = df_desc[1:]\n",
    "\n",
    "df_desc"
   ]
  },
  {
   "cell_type": "markdown",
   "metadata": {},
   "source": [
    "### Data cleaning"
   ]
  },
  {
   "cell_type": "code",
   "execution_count": 10,
   "metadata": {},
   "outputs": [],
   "source": [
    "df.createOrReplaceTempView(\"df\")"
   ]
  },
  {
   "cell_type": "code",
   "execution_count": 11,
   "metadata": {},
   "outputs": [
    {
     "name": "stdout",
     "output_type": "stream",
     "text": [
      "artist 58392\n",
      "auth None\n",
      "firstName 8346\n",
      "gender 8346\n",
      "itemInSession None\n",
      "lastName 8346\n",
      "length 58392\n",
      "level None\n",
      "location 8346\n",
      "method None\n",
      "page None\n",
      "registration 8346\n",
      "sessionId None\n",
      "song 58392\n",
      "status None\n",
      "ts None\n",
      "userAgent 8346\n",
      "userId None\n"
     ]
    }
   ],
   "source": [
    "null_dict = {}\n",
    "\n",
    "for i in df.columns:\n",
    "    \n",
    "    nulls = spark.sql(\"SELECT SUM(CASE WHEN {} IS NULL THEN 1 ELSE 0 END) AS null_{} \\\n",
    "                    FROM df \\\n",
    "                    where {} is null\".format(i, i, i)).collect()[0][\"null_{}\".format(i)]\n",
    "    \n",
    "    print(i, nulls)\n",
    "    null_dict[i] = nulls"
   ]
  },
  {
   "cell_type": "markdown",
   "metadata": {},
   "source": [
    "we can see that there are columns that are never null. We could use quartets (userId,ts, itemInSession, page) as Unique key. Indeed,"
   ]
  },
  {
   "cell_type": "code",
   "execution_count": 12,
   "metadata": {},
   "outputs": [
    {
     "name": "stderr",
     "output_type": "stream",
     "text": [
      "                                                                                \r"
     ]
    },
    {
     "data": {
      "text/plain": [
       "[]"
      ]
     },
     "execution_count": 12,
     "metadata": {},
     "output_type": "execute_result"
    }
   ],
   "source": [
    "spark.sql(\"SELECT userId, ts, itemInSession, page, count(*) AS n_rows \\\n",
    "        FROM df \\\n",
    "        GROUP BY 1, 2, 3,4 \\\n",
    "        HAVING count(*) > 1 \\\n",
    "        ORDER BY 3 DESC \\\n",
    "        LIMIT 10\").collect()"
   ]
  },
  {
   "cell_type": "markdown",
   "metadata": {},
   "source": [
    "and we can see thath there are no rows with the same userId, ts, itemInSession, page."
   ]
  },
  {
   "cell_type": "code",
   "execution_count": 13,
   "metadata": {},
   "outputs": [],
   "source": [
    "df_unique = spark.sql(\"WITH T AS (SELECT *, ROW_NUMBER() OVER (PARTITION BY userId, ts ORDER BY itemInSession) as rank\\\n",
    "                    FROM df ) \\\n",
    "                    SELECT * FROM T \\\n",
    "                    WHERE rank = 1\")\n",
    "\n",
    "df_unique.createOrReplaceTempView(\"df_unique\")"
   ]
  },
  {
   "cell_type": "markdown",
   "metadata": {},
   "source": [
    "### Missing Values"
   ]
  },
  {
   "cell_type": "code",
   "execution_count": 14,
   "metadata": {},
   "outputs": [
    {
     "name": "stderr",
     "output_type": "stream",
     "text": [
      "                                                                                \r"
     ]
    },
    {
     "name": "stdout",
     "output_type": "stream",
     "text": [
      "{'firstName': 0, 'gender': 0, 'lastName': 0, 'location': 0, 'userAgent': 0}\n"
     ]
    },
    {
     "name": "stderr",
     "output_type": "stream",
     "text": [
      "                                                                                \r"
     ]
    }
   ],
   "source": [
    "nan_dict = {}\n",
    "\n",
    "for i in [\"firstName\", \"gender\", \"lastName\", \"location\", \"userAgent\"]:\n",
    "    returns = spark.sql(\"\"\"\n",
    "        SELECT SUM(CASE WHEN {} IS NULL THEN 1 ELSE 0 END) AS nulls \n",
    "        FROM df_unique\n",
    "        WHERE registration IS NOT NULL\n",
    "    \"\"\".format(i)).collect()\n",
    "    \n",
    "    nan_dict[i] = returns[0].nulls\n",
    "    \n",
    "print(nan_dict)"
   ]
  },
  {
   "cell_type": "code",
   "execution_count": 15,
   "metadata": {},
   "outputs": [
    {
     "name": "stderr",
     "output_type": "stream",
     "text": [
      "                                                                                \r"
     ]
    },
    {
     "data": {
      "text/plain": [
       "[Row(page='Cancel', n_rows=52, null_songs=52, null_artist=52),\n",
       " Row(page='Submit Downgrade', n_rows=63, null_songs=63, null_artist=63),\n",
       " Row(page='Thumbs Down', n_rows=2546, null_songs=2546, null_artist=2546),\n",
       " Row(page='Home', n_rows=14235, null_songs=14235, null_artist=14235),\n",
       " Row(page='Downgrade', n_rows=2001, null_songs=2001, null_artist=2001),\n",
       " Row(page='Roll Advert', n_rows=3805, null_songs=3805, null_artist=3805),\n",
       " Row(page='Logout', n_rows=3226, null_songs=3226, null_artist=3226),\n",
       " Row(page='Save Settings', n_rows=310, null_songs=310, null_artist=310),\n",
       " Row(page='Cancellation Confirmation', n_rows=51, null_songs=51, null_artist=51),\n",
       " Row(page='About', n_rows=904, null_songs=904, null_artist=904),\n",
       " Row(page='Submit Registration', n_rows=5, null_songs=5, null_artist=5),\n",
       " Row(page='Settings', n_rows=1470, null_songs=1470, null_artist=1470),\n",
       " Row(page='Login', n_rows=3240, null_songs=3240, null_artist=3240),\n",
       " Row(page='Register', n_rows=18, null_songs=18, null_artist=18),\n",
       " Row(page='Add to Playlist', n_rows=6329, null_songs=6329, null_artist=6329),\n",
       " Row(page='Add Friend', n_rows=4277, null_songs=4277, null_artist=4277),\n",
       " Row(page='NextSong', n_rows=228051, null_songs=0, null_artist=0),\n",
       " Row(page='Thumbs Up', n_rows=12551, null_songs=12551, null_artist=12551),\n",
       " Row(page='Help', n_rows=1685, null_songs=1685, null_artist=1685),\n",
       " Row(page='Upgrade', n_rows=487, null_songs=487, null_artist=487),\n",
       " Row(page='Error', n_rows=249, null_songs=249, null_artist=249),\n",
       " Row(page='Submit Upgrade', n_rows=159, null_songs=159, null_artist=159)]"
      ]
     },
     "execution_count": 15,
     "metadata": {},
     "output_type": "execute_result"
    }
   ],
   "source": [
    "spark.sql(\"\"\"\n",
    "    SELECT page,\n",
    "           COUNT(*)                                        AS n_rows,\n",
    "           SUM(CASE WHEN song IS NULL THEN 1 ELSE 0 END)   AS null_songs,\n",
    "           SUM(CASE WHEN artist IS NULL THEN 1 ELSE 0 END) AS null_artist\n",
    "    FROM df_unique\n",
    "    GROUP BY 1\n",
    "\"\"\").collect()"
   ]
  },
  {
   "cell_type": "markdown",
   "metadata": {},
   "source": [
    "There doesn't seem to be any issues with dataset"
   ]
  },
  {
   "cell_type": "markdown",
   "metadata": {},
   "source": [
    "## Exploratory Data Analysis"
   ]
  },
  {
   "cell_type": "markdown",
   "metadata": {},
   "source": [
    "#### How many distinct users are there in our dataset?"
   ]
  },
  {
   "cell_type": "code",
   "execution_count": 16,
   "metadata": {},
   "outputs": [
    {
     "data": {
      "text/plain": [
       "[Row(is_registered=0, count(DISTINCT userId)=1),\n",
       " Row(is_registered=1, count(DISTINCT userId)=225)]"
      ]
     },
     "execution_count": 16,
     "metadata": {},
     "output_type": "execute_result"
    }
   ],
   "source": [
    "\n",
    "\n",
    "spark.sql(\"\"\"\n",
    "    SELECT CASE WHEN registration IS NULL THEN 0 ELSE 1 END AS is_registered,\n",
    "    COUNT(DISTINCT du.userId) \n",
    "    FROM df_unique AS du \n",
    "    GROUP BY 1\n",
    "    ORDER BY 1\n",
    "\n",
    "\"\"\").collect()\n",
    "\n"
   ]
  },
  {
   "cell_type": "markdown",
   "metadata": {},
   "source": [
    "#### Which pages are the most visited for each user?"
   ]
  },
  {
   "cell_type": "code",
   "execution_count": 17,
   "metadata": {},
   "outputs": [],
   "source": [
    "response = spark.sql(\"\"\"\n",
    "    SELECT page, COUNT(userId) AS counts\n",
    "    FROM df_unique\n",
    "    GROUP BY 1\n",
    "    ORDER BY 1 DESC\n",
    "\"\"\").collect()\n",
    "\n",
    "pages_non_distinct_view = [i.page for i in response]\n",
    "non_distinct_view = [i.counts for i in response]"
   ]
  },
  {
   "cell_type": "code",
   "execution_count": 18,
   "metadata": {},
   "outputs": [
    {
     "data": {
      "image/png": "[encoded data removed]",
      "text/plain": [
       "<Figure size 576x396 with 1 Axes>"
      ]
     },
     "metadata": {},
     "output_type": "display_data"
    }
   ],
   "source": [
    "response = spark.sql(\"\"\"\n",
    "    WITH user_pages AS (\n",
    "        SELECT DISTINCT userId, \n",
    "                        page \n",
    "        FROM df_unique\n",
    "    )\n",
    "    \n",
    "    SELECT page, COUNT(DISTINCT userId) AS counts\n",
    "    FROM user_pages\n",
    "    GROUP BY 1\n",
    "    ORDER BY 1 DESC\n",
    "\"\"\").collect()\n",
    "\n",
    "distinct_view = [i.counts for i in response]\n",
    "\n",
    "df_page_vists = pd.DataFrame(dict(page = pages_non_distinct_view,\n",
    "                                  distinct_view = distinct_view,\n",
    "                                  non_distinct_view = non_distinct_view))\n",
    "\n",
    "ax = df_page_vists.sort_values(\"non_distinct_view\").set_index(\"page\")[\"non_distinct_view\"].plot(kind=\"barh\", \n",
    "                                                                                                color=color_cycle[0])\n",
    "ax.plot();"
   ]
  },
  {
   "cell_type": "code",
   "execution_count": 19,
   "metadata": {},
   "outputs": [
    {
     "data": {
      "image/png": "[encoded data removed]",
      "text/plain": [
       "<Figure size 576x396 with 1 Axes>"
      ]
     },
     "metadata": {},
     "output_type": "display_data"
    }
   ],
   "source": [
    "\n",
    "\n",
    "ax = df_page_vists.sort_values(\"distinct_view\").set_index(\"page\")[\"distinct_view\"].plot(kind=\"barh\", \n",
    "                                                                                                color=color_cycle[0])\n",
    "ax.plot();\n",
    "\n"
   ]
  },
  {
   "cell_type": "markdown",
   "metadata": {},
   "source": [
    "Looking at distinct users shows that things not so imbalanced. We can see that out of roughly 225 registered users, roughly 50 of them end up downgrading."
   ]
  },
  {
   "cell_type": "markdown",
   "metadata": {},
   "source": [
    "\n",
    "#### What location are our users mostly from?"
   ]
  },
  {
   "cell_type": "code",
   "execution_count": 20,
   "metadata": {},
   "outputs": [
    {
     "name": "stderr",
     "output_type": "stream",
     "text": [
      "                                                                                \r"
     ]
    },
    {
     "data": {
      "image/png": "[encoded data removed]",
      "text/plain": [
       "<Figure size 576x396 with 1 Axes>"
      ]
     },
     "metadata": {},
     "output_type": "display_data"
    }
   ],
   "source": [
    "response = spark.sql(\"\"\"\n",
    "    WITH user_locations AS (\n",
    "        SELECT DISTINCT userId, \n",
    "                        location \n",
    "        FROM df_unique\n",
    "    )\n",
    "    \n",
    "    SELECT location, COUNT(DISTINCT userId) AS counts\n",
    "    FROM user_locations\n",
    "    GROUP BY 1\n",
    "    ORDER BY 2 DESC\n",
    "    LIMIT 25  -- Note that without a limit, the graph will overplot\n",
    "\"\"\").collect()\n",
    "\n",
    "location = [i.location for i in response]\n",
    "location_counts = [i.counts for i in response]\n",
    "\n",
    "df_locations = pd.DataFrame(dict(location = location,\n",
    "                                 location_counts = location_counts))\n",
    "\n",
    "ax = df_locations.sort_values(\"location_counts\").set_index(\"location\")[\"location_counts\"].plot(kind=\"barh\", \n",
    "                                                                                               color=color_cycle[0])\n",
    "ax.plot();"
   ]
  },
  {
   "cell_type": "markdown",
   "metadata": {},
   "source": [
    "#### Gender distribution"
   ]
  },
  {
   "cell_type": "code",
   "execution_count": 21,
   "metadata": {},
   "outputs": [
    {
     "data": {
      "text/plain": [
       "[Row(gender=None, counts=1),\n",
       " Row(gender='F', counts=104),\n",
       " Row(gender='M', counts=121)]"
      ]
     },
     "execution_count": 21,
     "metadata": {},
     "output_type": "execute_result"
    }
   ],
   "source": [
    "gender = spark.sql(\"\"\"\n",
    "    WITH user_gender AS (\n",
    "        SELECT DISTINCT userId, gender\n",
    "        FROM df_unique\n",
    "    )\n",
    "\n",
    "    SELECT gender, COUNT(*) AS counts\n",
    "    FROM user_gender\n",
    "    GROUP BY 1\n",
    "    ORDER BY 1\n",
    "\"\"\").collect()\n",
    "\n",
    "gender\n",
    "\n"
   ]
  },
  {
   "cell_type": "markdown",
   "metadata": {},
   "source": [
    "The person with a null gender is an unregistered user."
   ]
  },
  {
   "cell_type": "code",
   "execution_count": 22,
   "metadata": {},
   "outputs": [
    {
     "data": {
      "text/plain": [
       "(104, 121)"
      ]
     },
     "execution_count": 22,
     "metadata": {},
     "output_type": "execute_result"
    }
   ],
   "source": [
    "males = [i.counts for i in gender if i.gender=='F'][0]\n",
    "females = [i.counts for i in gender if i.gender=='M'][0]\n",
    "\n",
    "males, females"
   ]
  },
  {
   "cell_type": "code",
   "execution_count": 23,
   "metadata": {},
   "outputs": [
    {
     "data": {
      "image/png": "[encoded data removed]",
      "text/plain": [
       "<Figure size 720x432 with 1 Axes>"
      ]
     },
     "metadata": {},
     "output_type": "display_data"
    }
   ],
   "source": [
    "fig, ax = plt.subplots(figsize=(10, 6), edgecolor='k', facecolor='white')\n",
    "plt.bar([\"males\", \"females\"], [males, females])\n",
    "plt.title(\"Number of males vs number of females\")\n",
    "plt.ylabel(\"Count\")\n",
    "plt.show()\n",
    "\n"
   ]
  },
  {
   "cell_type": "markdown",
   "metadata": {},
   "source": [
    "### when is a user likely to unsubscribe from services"
   ]
  },
  {
   "cell_type": "markdown",
   "metadata": {},
   "source": [
    "\n",
    "possible reasons:\n",
    "\n",
    "When their \"use\" of the platform starts to slow down.\n",
    "When they can't even use the platform due to erroes.\n",
    "When they decide to use another platform. (Not actionable)\n",
    "When they decide that they would rather save the money they spend on the service. (Not actionable)\n",
    "When friends start to ubsubscribe (network effects)\n",
    "When they listen to songs that they don't like\n",
    "\n",
    "\n",
    "so, we should check for:\n",
    "\n",
    "The distribution of those who visit the cancelation confirmation page and intra-session time.\n",
    "Total play time per unit of time. Or even the number of pages visited per unit oftime.\n",
    "If people are more likely to ubsubscribe if their direct friends unsubscribe.\n",
    "Another useful signal is the number of error pages that they get. (Or event he number of times they check the help)\n",
    "In addition to this, let's look at the ratio of likes vs dislikes.\n"
   ]
  },
  {
   "cell_type": "markdown",
   "metadata": {},
   "source": [
    "#### intrasession time correlation with cancellation"
   ]
  },
  {
   "cell_type": "code",
   "execution_count": 24,
   "metadata": {},
   "outputs": [
    {
     "name": "stderr",
     "output_type": "stream",
     "text": [
      "                                                                                \r"
     ]
    }
   ],
   "source": [
    "response = spark.sql(\"\"\"\n",
    "    WITH usr_cancelsub AS (\n",
    "    SELECT userId,\n",
    "           MAX(CASE WHEN page = 'Cancellation Confirmation' THEN 1 ELSE 0 END) AS is_canceled\n",
    "    FROM df_unique\n",
    "    GROUP BY 1\n",
    "    ),\n",
    "    \n",
    "    usr_intrasesh AS (\n",
    "    SELECT userId, \n",
    "           itemInSession, \n",
    "           ts - LAG(ts) OVER (PARTITION BY userId ORDER BY ts) AS intra_session_time\n",
    "    FROM df_unique\n",
    "    WHERE itemInSession = 0\n",
    "    )\n",
    "    \n",
    "    SELECT uc.*, ui.avg_intra_session_time\n",
    "    FROM usr_cancelsub AS uc\n",
    "    LEFT JOIN (SELECT userId, AVG(intra_session_time) avg_intra_session_time\n",
    "               FROM usr_intrasesh\n",
    "               GROUP BY 1) AS ui\n",
    "               ON ui.userId = uc.userId\n",
    "\"\"\").collect()"
   ]
  },
  {
   "cell_type": "code",
   "execution_count": 25,
   "metadata": {},
   "outputs": [],
   "source": [
    "intrasesh_times = [i.avg_intra_session_time for i in response]\n",
    "is_canceled = [i.is_canceled for i in response]\n",
    "\n",
    "df_intrasesh_cancelation = pd.DataFrame(dict(intrasesh_times = intrasesh_times,\n",
    "                                            is_canceled = is_canceled))"
   ]
  },
  {
   "cell_type": "code",
   "execution_count": 26,
   "metadata": {},
   "outputs": [
    {
     "data": {
      "image/png": "[encoded data removed]",
      "text/plain": [
       "<Figure size 720x432 with 1 Axes>"
      ]
     },
     "metadata": {},
     "output_type": "display_data"
    }
   ],
   "source": [
    "fig, ax = plt.subplots(figsize=(10, 6), edgecolor='k', facecolor='white')\n",
    "plt.scatter(df_intrasesh_cancelation[df_intrasesh_cancelation[\"is_canceled\"] == 1][\"intrasesh_times\"], \n",
    "            df_intrasesh_cancelation[df_intrasesh_cancelation[\"is_canceled\"] == 1][\"is_canceled\"])\n",
    "plt.scatter(df_intrasesh_cancelation[df_intrasesh_cancelation[\"is_canceled\"] == 0][\"intrasesh_times\"], \n",
    "            df_intrasesh_cancelation[df_intrasesh_cancelation[\"is_canceled\"] == 0][\"is_canceled\"])\n",
    "plt.yticks((0, 1))\n",
    "plt.title(\"Comparing Intrasession times with Subscription Cancelation\")\n",
    "plt.xlabel(\"Intra Session time (ts)\")\n",
    "plt.ylabel(\"Is Canceled\")\n",
    "plt.show()"
   ]
  },
  {
   "cell_type": "markdown",
   "metadata": {},
   "source": [
    "#### Total play time correlation with Cancelation"
   ]
  },
  {
   "cell_type": "code",
   "execution_count": 27,
   "metadata": {},
   "outputs": [
    {
     "name": "stderr",
     "output_type": "stream",
     "text": [
      "                                                                                \r"
     ]
    }
   ],
   "source": [
    "response = spark.sql(\"\"\"\n",
    "    SELECT userId,\n",
    "           MAX(CASE WHEN page = 'Cancellation Confirmation' THEN 1 ELSE 0 END) AS is_canceled,\n",
    "           SUM(length) AS total_play_time\n",
    "    FROM df_unique\n",
    "    GROUP BY 1\n",
    "\"\"\").collect()"
   ]
  },
  {
   "cell_type": "code",
   "execution_count": 28,
   "metadata": {},
   "outputs": [],
   "source": [
    "total_play_time = [i.total_play_time for i in response]\n",
    "is_canceled = [i.is_canceled for i in response]\n",
    "\n",
    "df_playtime_cancelation = pd.DataFrame(dict(total_play_time = total_play_time,\n",
    "                                            is_canceled = is_canceled))"
   ]
  },
  {
   "cell_type": "code",
   "execution_count": 29,
   "metadata": {},
   "outputs": [
    {
     "data": {
      "image/png": "[encoded data removed]",
      "text/plain": [
       "<Figure size 720x432 with 1 Axes>"
      ]
     },
     "metadata": {},
     "output_type": "display_data"
    }
   ],
   "source": [
    "fig, ax = plt.subplots(figsize=(10, 6), edgecolor='k', facecolor='white')\n",
    "plt.scatter(df_playtime_cancelation[df_playtime_cancelation[\"is_canceled\"] == 1][\"total_play_time\"], \n",
    "            df_playtime_cancelation[df_playtime_cancelation[\"is_canceled\"] == 1][\"is_canceled\"])\n",
    "plt.scatter(df_playtime_cancelation[df_playtime_cancelation[\"is_canceled\"] == 0][\"total_play_time\"], \n",
    "            df_playtime_cancelation[df_playtime_cancelation[\"is_canceled\"] == 0][\"is_canceled\"])\n",
    "plt.yticks((0, 1))\n",
    "plt.title(\"Comparing Total Play Time times with Subscription Cancelation\")\n",
    "plt.xlabel(\"Total Play Time (s)\")\n",
    "plt.ylabel(\"Is Canceled\")\n",
    "plt.show()"
   ]
  },
  {
   "cell_type": "markdown",
   "metadata": {},
   "source": [
    "#### Effect of network on unsubscribing"
   ]
  },
  {
   "cell_type": "code",
   "execution_count": 30,
   "metadata": {},
   "outputs": [],
   "source": [
    "response = spark.sql(\"\"\"\n",
    "    SELECT userId,\n",
    "           MAX(CASE WHEN page = 'Cancellation Confirmation' THEN 1 ELSE 0 END) AS is_canceled,\n",
    "           SUM(CASE WHEN page = 'Add Friend' THEN 1 ELSE 0 END) AS n_friends_added\n",
    "    FROM df_unique\n",
    "    GROUP BY 1\n",
    "\"\"\").collect()"
   ]
  },
  {
   "cell_type": "code",
   "execution_count": 31,
   "metadata": {},
   "outputs": [],
   "source": [
    "friends_added = [i.n_friends_added for i in response]\n",
    "is_canceled = [i.is_canceled for i in response]\n",
    "\n",
    "df_playtime_cancelation = pd.DataFrame(dict(friends_added = friends_added,\n",
    "                                            is_canceled = is_canceled))"
   ]
  },
  {
   "cell_type": "code",
   "execution_count": 32,
   "metadata": {},
   "outputs": [
    {
     "data": {
      "image/png": "[encoded data removed]",
      "text/plain": [
       "<Figure size 720x432 with 1 Axes>"
      ]
     },
     "metadata": {},
     "output_type": "display_data"
    }
   ],
   "source": [
    "\n",
    "\n",
    "fig, ax = plt.subplots(figsize=(10, 6), edgecolor='k', facecolor='white')\n",
    "plt.scatter(df_playtime_cancelation[df_playtime_cancelation[\"is_canceled\"] == 1][\"friends_added\"], \n",
    "            df_playtime_cancelation[df_playtime_cancelation[\"is_canceled\"] == 1][\"is_canceled\"])\n",
    "plt.scatter(df_playtime_cancelation[df_playtime_cancelation[\"is_canceled\"] == 0][\"friends_added\"], \n",
    "            df_playtime_cancelation[df_playtime_cancelation[\"is_canceled\"] == 0][\"is_canceled\"])\n",
    "plt.yticks((0, 1))\n",
    "plt.title(\"Comparing Number of Friends Added with Subscription Cancelation\")\n",
    "plt.xlabel(\"Number of Friends Added\")\n",
    "plt.ylabel(\"Is Canceled\")\n",
    "plt.show()\n",
    "\n"
   ]
  },
  {
   "cell_type": "markdown",
   "metadata": {},
   "source": [
    "#### Number of Error Pages"
   ]
  },
  {
   "cell_type": "code",
   "execution_count": 33,
   "metadata": {},
   "outputs": [],
   "source": [
    "response = spark.sql(\"\"\"\n",
    "    SELECT userId,\n",
    "           MAX(CASE WHEN page = 'Cancellation Confirmation' THEN 1 ELSE 0 END) AS is_canceled,\n",
    "           SUM(CASE WHEN page = 'Error' THEN 1 ELSE 0 END) AS n_errors\n",
    "    FROM df_unique\n",
    "    GROUP BY 1\n",
    "\"\"\").collect()"
   ]
  },
  {
   "cell_type": "code",
   "execution_count": 34,
   "metadata": {},
   "outputs": [],
   "source": [
    "errors = [i.n_errors for i in response]\n",
    "is_canceled = [i.is_canceled for i in response]\n",
    "\n",
    "df_errors = pd.DataFrame(dict(errors = errors,\n",
    "                              is_canceled = is_canceled))"
   ]
  },
  {
   "cell_type": "code",
   "execution_count": 35,
   "metadata": {},
   "outputs": [
    {
     "data": {
      "image/png": "[encoded data removed]",
      "text/plain": [
       "<Figure size 720x432 with 1 Axes>"
      ]
     },
     "metadata": {},
     "output_type": "display_data"
    }
   ],
   "source": [
    "fig, ax = plt.subplots(figsize=(10, 6), edgecolor='k', facecolor='white')\n",
    "plt.scatter(df_errors[df_errors[\"is_canceled\"] == 1][\"errors\"], \n",
    "            df_errors[df_errors[\"is_canceled\"] == 1][\"is_canceled\"])\n",
    "plt.scatter(df_errors[df_errors[\"is_canceled\"] == 0][\"errors\"], \n",
    "            df_errors[df_errors[\"is_canceled\"] == 0][\"is_canceled\"])\n",
    "plt.yticks((0, 1))\n",
    "plt.title(\"Comparing Number of Errors with Subscription Cancelation\")\n",
    "plt.xlabel(\"Number of Errors\")\n",
    "plt.ylabel(\"Is Canceled\")\n",
    "plt.show()"
   ]
  },
  {
   "cell_type": "markdown",
   "metadata": {},
   "source": [
    "#### Like/Dislike Ratio"
   ]
  },
  {
   "cell_type": "code",
   "execution_count": 36,
   "metadata": {},
   "outputs": [],
   "source": [
    "response = spark.sql(\"\"\"\n",
    "    SELECT userId,\n",
    "           MAX(CASE WHEN page = 'Cancellation Confirmation' THEN 1 ELSE 0 END) AS is_canceled,\n",
    "           SUM(CASE WHEN page = 'Thumbs Up' THEN 1 ELSE 0 END)/\n",
    "           SUM(CASE WHEN page = 'Thumbs Down' THEN 1 ELSE 0 END)AS likes_v_dislikes\n",
    "    FROM df_unique\n",
    "    GROUP BY 1\n",
    "\"\"\").collect()"
   ]
  },
  {
   "cell_type": "code",
   "execution_count": 37,
   "metadata": {},
   "outputs": [],
   "source": [
    "\n",
    "\n",
    "likes_v_dislikes = [i.likes_v_dislikes for i in response]\n",
    "is_canceled = [i.is_canceled for i in response]\n",
    "\n",
    "l_v_d = pd.DataFrame(dict(likes_v_dislikes = likes_v_dislikes,\n",
    "                              is_canceled = is_canceled))"
   ]
  },
  {
   "cell_type": "code",
   "execution_count": 38,
   "metadata": {},
   "outputs": [
    {
     "data": {
      "image/png": "[encoded data removed]",
      "text/plain": [
       "<Figure size 720x432 with 1 Axes>"
      ]
     },
     "metadata": {},
     "output_type": "display_data"
    }
   ],
   "source": [
    "fig, ax = plt.subplots(figsize=(10, 6), edgecolor='k', facecolor='white')\n",
    "plt.scatter(l_v_d[l_v_d[\"is_canceled\"] == 1][\"likes_v_dislikes\"], \n",
    "            l_v_d[l_v_d[\"is_canceled\"] == 1][\"is_canceled\"])\n",
    "plt.scatter(l_v_d[l_v_d[\"is_canceled\"] == 0][\"likes_v_dislikes\"], \n",
    "            l_v_d[l_v_d[\"is_canceled\"] == 0][\"is_canceled\"])\n",
    "plt.yticks((0, 1))\n",
    "plt.title(\"Comparing Ratio of Likes/Dislikes Down with Subscription Cancelation\")\n",
    "plt.xlabel(\"Ratio Likes vs Dislikes\")\n",
    "plt.ylabel(\"Is Canceled\")\n",
    "plt.show()"
   ]
  },
  {
   "cell_type": "markdown",
   "metadata": {},
   "source": [
    "### Feature Engineering"
   ]
  },
  {
   "cell_type": "markdown",
   "metadata": {},
   "source": [
    "Based on the previous analysis we will use the following features: \\\n",
    "  1.intra-session time.\\\n",
    "  2.Total play time\\\n",
    "  3.Number of Friends.\\\n",
    "  4.Ratio of likes vs dislikes."
   ]
  },
  {
   "cell_type": "code",
   "execution_count": 39,
   "metadata": {},
   "outputs": [],
   "source": [
    "df_features_raw = spark.sql(\"\"\"\n",
    "    WITH usr_intrasesh AS (\n",
    "    SELECT userId, \n",
    "           itemInSession, \n",
    "           ts - LAG(ts) OVER (PARTITION BY userId ORDER BY ts) AS intra_session_time\n",
    "    FROM df_unique\n",
    "    WHERE itemInSession = 0\n",
    "    ) \n",
    "\n",
    "    SELECT du.userId,\n",
    "           NVL(ui.avg_intra_session_time, 0) AS avg_intra_session_time,\n",
    "           NVL(SUM(length), 0) AS total_play_time, \n",
    "           NVL(SUM(CASE WHEN page = 'Add Friend' THEN 1 ELSE 0 END), 0) AS n_friends_added,\n",
    "           NVL(SUM(CASE WHEN page = 'Thumbs Up' THEN 1 ELSE 0 END) /\n",
    "               SUM(CASE WHEN page = 'Thumbs Down' THEN 1 ELSE 0 END), 0) AS Ratio_TU_v_TD,\n",
    "           NVL(MAX(CASE WHEN page = 'Cancellation Confirmation' THEN 1 ELSE 0 END), 0) AS label\n",
    "    FROM df_unique AS du\n",
    "    LEFT JOIN (SELECT userId, AVG(intra_session_time) avg_intra_session_time\n",
    "               FROM usr_intrasesh\n",
    "               GROUP BY 1) AS ui\n",
    "               ON ui.userId = du.userId\n",
    "    GROUP BY 1, 2\n",
    "\"\"\")\n",
    "\n",
    "\n",
    "df_features_raw.createOrReplaceTempView(\"df_features_raw\")"
   ]
  },
  {
   "cell_type": "code",
   "execution_count": 40,
   "metadata": {},
   "outputs": [],
   "source": [
    "cols = df_features_raw.columns[1:-1]\n",
    "assembler = VectorAssembler(inputCols=cols, \n",
    "                            outputCol=\"Vec\")\n",
    "\n",
    "df_features_unnormalised = assembler.transform(df_features_raw)"
   ]
  },
  {
   "cell_type": "code",
   "execution_count": 41,
   "metadata": {},
   "outputs": [],
   "source": [
    "scaler = Normalizer(inputCol=\"Vec\", outputCol=\"features\")\n",
    "df_features = scaler.transform(df_features_unnormalised).select([\"features\", \"label\"])"
   ]
  },
  {
   "cell_type": "markdown",
   "metadata": {},
   "source": [
    "### Modeling"
   ]
  },
  {
   "cell_type": "markdown",
   "metadata": {},
   "source": [
    "#### Logistic regression"
   ]
  },
  {
   "cell_type": "code",
   "execution_count": 42,
   "metadata": {},
   "outputs": [],
   "source": [
    "train, validation = df_features.randomSplit([0.8, 0.2], seed=61241)"
   ]
  },
  {
   "cell_type": "code",
   "execution_count": 43,
   "metadata": {},
   "outputs": [
    {
     "name": "stdout",
     "output_type": "stream",
     "text": [
      "Model not existing yet, training a new one...\n"
     ]
    },
    {
     "name": "stderr",
     "output_type": "stream",
     "text": [
      "22/09/26 16:08:51 WARN InstanceBuilder$NativeBLAS: Failed to load implementation from:dev.ludovic.netlib.blas.JNIBLAS\n",
      "22/09/26 16:08:51 WARN InstanceBuilder$NativeBLAS: Failed to load implementation from:dev.ludovic.netlib.blas.ForeignLinkerBLAS\n",
      "                                                                                \r"
     ]
    },
    {
     "name": "stdout",
     "output_type": "stream",
     "text": [
      "Training complete! \n",
      "\t Training time: 8.376009825865427 mins.\n"
     ]
    }
   ],
   "source": [
    "lr =  LogisticRegression()\n",
    "paramGrid = ParamGridBuilder() \\\n",
    "    .addGrid(lr.elasticNetParam,[0.0, 0.1]) \\\n",
    "    .addGrid(lr.regParam,[0.0, 0.1]) \\\n",
    "    .build()\n",
    "\n",
    "crossval = CrossValidator(estimator=lr,\n",
    "                          estimatorParamMaps=paramGrid,\n",
    "                          evaluator=BinaryClassificationEvaluator(),\n",
    "                          numFolds=3)\n",
    "\n",
    "crossval.setSeed(42)\n",
    "if not os.path.isdir(\"./logisticRegression1\"):\n",
    "    \n",
    "    print(\"Model not existing yet, training a new one...\")\n",
    "    \n",
    "    train_time_start = time()\n",
    "    \n",
    "    cvModel_lr = crossval.fit(train)\n",
    "\n",
    "    train_time_end = time()\n",
    "    \n",
    "    print(\"Training complete! \\n\\t Training time:\", (train_time_end - train_time_start)/60, \"mins.\")\n",
    "\n",
    "    cvModel_lr.save(\"./logisticRegression1\")\n",
    "else:\n",
    "    print(\"Loading existing model\")\n",
    "    cvModel_lr = CrossValidatorModel.load(\"./logisticRegression1\")"
   ]
  },
  {
   "cell_type": "markdown",
   "metadata": {},
   "source": [
    "Model Evaluation"
   ]
  },
  {
   "cell_type": "code",
   "execution_count": 44,
   "metadata": {},
   "outputs": [],
   "source": [
    "train_results = cvModel_lr.transform(train)\n",
    "\n",
    "\n",
    "tp_train = train_results.filter(\"label = 1 and prediction = 1\").count()\n",
    "fp_train = train_results.filter(\"label = 0 and prediction = 1\").count()\n",
    "fn_train = train_results.filter(\"label = 1 and prediction = 0\").count()\n",
    "tn_train = train_results.filter(\"label = 0 and prediction = 0\").count()\n",
    "\n",
    "\n",
    "train_classifications = [tp_train, \n",
    "                        tn_train, \n",
    "                        fp_train, \n",
    "                        fn_train]"
   ]
  },
  {
   "cell_type": "markdown",
   "metadata": {},
   "source": [
    "Confusion matrix"
   ]
  },
  {
   "cell_type": "code",
   "execution_count": 45,
   "metadata": {},
   "outputs": [
    {
     "name": "stdout",
     "output_type": "stream",
     "text": [
      "[[  2   0]\n",
      " [ 43 140]]\n"
     ]
    }
   ],
   "source": [
    "print_cm(*train_classifications)"
   ]
  },
  {
   "cell_type": "markdown",
   "metadata": {},
   "source": [
    "Metrics"
   ]
  },
  {
   "cell_type": "code",
   "execution_count": 59,
   "metadata": {},
   "outputs": [
    {
     "name": "stdout",
     "output_type": "stream",
     "text": [
      "_________________\n",
      "\tAccuracy: 0.7675675675675676\n",
      "\tPrecision: 1.0\n",
      "\tRecall: 0.044444444444444446\n",
      "\tF1 Score: 0.0851063829787234\n",
      "_________________\n"
     ]
    }
   ],
   "source": [
    "get_classification_score(*train_classifications)"
   ]
  },
  {
   "cell_type": "code",
   "execution_count": 60,
   "metadata": {},
   "outputs": [],
   "source": [
    "validation_results = cvModel_lr.transform(validation)\n",
    "\n",
    "tp_valid = validation_results.filter(\"label = 1 and prediction = 1\").count()\n",
    "fp_valid = validation_results.filter(\"label = 0 and prediction = 1\").count()\n",
    "fn_valid = validation_results.filter(\"label = 1 and prediction = 0\").count()\n",
    "tn_valid = validation_results.filter(\"label = 0 and prediction = 0\").count()\n",
    "\n",
    "valid_classifications = [tp_valid, \n",
    "                         tn_valid, \n",
    "                         fp_valid, \n",
    "                         fn_valid]"
   ]
  },
  {
   "cell_type": "markdown",
   "metadata": {},
   "source": [
    "Validation confusion matrix"
   ]
  },
  {
   "cell_type": "code",
   "execution_count": 61,
   "metadata": {},
   "outputs": [
    {
     "name": "stdout",
     "output_type": "stream",
     "text": [
      "[[ 0  1]\n",
      " [ 6 34]]\n"
     ]
    }
   ],
   "source": [
    "print_cm(*valid_classifications)"
   ]
  },
  {
   "cell_type": "markdown",
   "metadata": {},
   "source": [
    "Validation metrics"
   ]
  },
  {
   "cell_type": "code",
   "execution_count": 62,
   "metadata": {},
   "outputs": [
    {
     "name": "stdout",
     "output_type": "stream",
     "text": [
      "_________________\n",
      "\tAccuracy: 0.8292682926829268\n",
      "\tPrecision: 0.0\n",
      "\tRecall: 0.0\n",
      "\tF1 Score: nan\n",
      "_________________\n"
     ]
    }
   ],
   "source": [
    "get_classification_score(*valid_classifications)"
   ]
  },
  {
   "cell_type": "markdown",
   "metadata": {},
   "source": [
    "Next, let's take a look at the featurs coefficients"
   ]
  },
  {
   "cell_type": "code",
   "execution_count": 63,
   "metadata": {},
   "outputs": [
    {
     "data": {
      "text/html": [
       "<div>\n",
       "<style scoped>\n",
       "    .dataframe tbody tr th:only-of-type {\n",
       "        vertical-align: middle;\n",
       "    }\n",
       "\n",
       "    .dataframe tbody tr th {\n",
       "        vertical-align: top;\n",
       "    }\n",
       "\n",
       "    .dataframe thead th {\n",
       "        text-align: right;\n",
       "    }\n",
       "</style>\n",
       "<table border=\"1\" class=\"dataframe\">\n",
       "  <thead>\n",
       "    <tr style=\"text-align: right;\">\n",
       "      <th></th>\n",
       "      <th>feature</th>\n",
       "      <th>coefficient</th>\n",
       "    </tr>\n",
       "  </thead>\n",
       "  <tbody>\n",
       "    <tr>\n",
       "      <th>3</th>\n",
       "      <td>Ratio_TU_v_TD</td>\n",
       "      <td>2641.181846</td>\n",
       "    </tr>\n",
       "    <tr>\n",
       "      <th>2</th>\n",
       "      <td>n_friends_added</td>\n",
       "      <td>1980.361868</td>\n",
       "    </tr>\n",
       "    <tr>\n",
       "      <th>0</th>\n",
       "      <td>avg_intra_session_time</td>\n",
       "      <td>0.000000</td>\n",
       "    </tr>\n",
       "    <tr>\n",
       "      <th>1</th>\n",
       "      <td>total_play_time</td>\n",
       "      <td>0.000000</td>\n",
       "    </tr>\n",
       "    <tr>\n",
       "      <th>4</th>\n",
       "      <td>Intercept</td>\n",
       "      <td>-1.178259</td>\n",
       "    </tr>\n",
       "  </tbody>\n",
       "</table>\n",
       "</div>"
      ],
      "text/plain": [
       "                  feature  coefficient\n",
       "3           Ratio_TU_v_TD  2641.181846\n",
       "2         n_friends_added  1980.361868\n",
       "0  avg_intra_session_time     0.000000\n",
       "1         total_play_time     0.000000\n",
       "4               Intercept    -1.178259"
      ]
     },
     "execution_count": 63,
     "metadata": {},
     "output_type": "execute_result"
    }
   ],
   "source": [
    "df_lr_coeff = pd.DataFrame(dict(feature = df_features_raw.columns[1:-1]+[\"Intercept\"],\n",
    "                                coefficient = [i for i in cvModel_lr.bestModel.coefficients]+\\\n",
    "                                [i for i in [cvModel_lr.bestModel.intercept]]))\n",
    "df_lr_coeff.sort_values(\"coefficient\", ascending=False)"
   ]
  },
  {
   "cell_type": "code",
   "execution_count": 64,
   "metadata": {},
   "outputs": [
    {
     "data": {
      "text/plain": [
       "<AxesSubplot:ylabel='feature'>"
      ]
     },
     "execution_count": 64,
     "metadata": {},
     "output_type": "execute_result"
    },
    {
     "data": {
      "image/png": "[encoded data removed]",
      "text/plain": [
       "<Figure size 576x396 with 1 Axes>"
      ]
     },
     "metadata": {},
     "output_type": "display_data"
    }
   ],
   "source": [
    "df_lr_coeff.sort_values(\"coefficient\", ascending=True).set_index(\"feature\").plot(kind=\"barh\")"
   ]
  },
  {
   "cell_type": "markdown",
   "metadata": {},
   "source": [
    "The average intra session time and total play time doesnt seem to be signifcant"
   ]
  },
  {
   "cell_type": "markdown",
   "metadata": {},
   "source": [
    "It seems people will stay depending on  how much they like the music that they are listening to and their social interactions."
   ]
  },
  {
   "cell_type": "markdown",
   "metadata": {},
   "source": [
    "#### Alternative Model: Decision Tree"
   ]
  },
  {
   "cell_type": "code",
   "execution_count": 66,
   "metadata": {},
   "outputs": [
    {
     "name": "stderr",
     "output_type": "stream",
     "text": [
      "[Stage 2737:===============>                                     (57 + 1) / 200]\r"
     ]
    },
    {
     "name": "stdout",
     "output_type": "stream",
     "text": [
      "Model not existing yet, training a new one...\n"
     ]
    },
    {
     "name": "stderr",
     "output_type": "stream",
     "text": [
      "22/09/26 16:21:11 WARN CacheManager: Asked to cache already cached data.\n",
      "22/09/26 16:21:11 WARN CacheManager: Asked to cache already cached data.\n",
      "                                                                                \r"
     ]
    },
    {
     "name": "stdout",
     "output_type": "stream",
     "text": [
      "Training complete! \n",
      "\t Training time: 8.807256364822388 mins.\n"
     ]
    }
   ],
   "source": [
    "dt = DecisionTreeClassifier()\n",
    "paramGrid = ParamGridBuilder() \\\n",
    "    .addGrid(dt.impurity,['entropy', 'gini']) \\\n",
    "    .addGrid(dt.maxDepth,[2, 3, 4, 5, 6, 7, 8]) \\\n",
    "    .build()\n",
    "\n",
    "crossval_dt = CrossValidator(estimator=dt,\n",
    "                          estimatorParamMaps=paramGrid,\n",
    "                          evaluator=BinaryClassificationEvaluator(),\n",
    "                          numFolds=3)\n",
    "\n",
    "crossval.setSeed(42)\n",
    "\n",
    "if not os.path.isdir(\"./decisionTree1\"):\n",
    "    \n",
    "    print(\"Model not existing yet, training a new one...\")\n",
    "    \n",
    "    train_time_start = time()\n",
    "\n",
    "    cvModel_dt = crossval_dt.fit(train)\n",
    "\n",
    "    train_time_end = time()\n",
    "    \n",
    "    print(\"Training complete! \\n\\t Training time:\", (train_time_end - train_time_start)/60, \"mins.\")\n",
    "    \n",
    "    cvModel_dt.save(\"./decisionTree1\")\n",
    "else:\n",
    "    print(\"Loading existing model\")\n",
    "    cvModel_dt = CrossValidatorModel.load(\"./decisionTree1\")"
   ]
  },
  {
   "cell_type": "code",
   "execution_count": 67,
   "metadata": {},
   "outputs": [],
   "source": [
    "df_features_raw2 = spark.sql(\"\"\"\n",
    "    WITH usr_intrasesh AS (\n",
    "    SELECT userId, \n",
    "           itemInSession, \n",
    "           ts - LAG(ts) OVER (PARTITION BY userId ORDER BY ts) AS intra_session_time\n",
    "    FROM df_unique\n",
    "    WHERE itemInSession = 0\n",
    "    ) \n",
    "\n",
    "    SELECT du.userId,\n",
    "           NVL(ui.avg_intra_session_time, 0) AS avg_intra_session_time,\n",
    "           NVL(SUM(length), 0) AS total_play_time, \n",
    "           NVL(SUM(CASE WHEN page = 'Add Friend' THEN 1 ELSE 0 END), 0) AS n_friends_added,\n",
    "           NVL(SUM(CASE WHEN page = 'Thumbs Up' THEN 1 ELSE 0 END) /\n",
    "               SUM(CASE WHEN page = 'Thumbs Down' THEN 1 ELSE 0 END), 0) AS Ratio_TU_v_TD,\n",
    "           NVL(COUNT(DISTINCT artist), 0) AS n_artists,\n",
    "           NVL(COUNT(song), 0) AS n_songs,\n",
    "           NVL(SUM(CASE WHEN page = 'Add to Playlist' THEN 1 ELSE 0 END), 0) AS n_added_to_playlist,\n",
    "           NVL(MAX(CASE WHEN page = 'Cancellation Confirmation' THEN 1 ELSE 0 END), 0) AS label\n",
    "    FROM df_unique AS du\n",
    "    LEFT JOIN (SELECT userId, AVG(intra_session_time) avg_intra_session_time\n",
    "               FROM usr_intrasesh\n",
    "               GROUP BY 1) AS ui\n",
    "               ON ui.userId = du.userId\n",
    "    GROUP BY 1, 2\n",
    "\"\"\")\n",
    "\n",
    "df_features_raw.createOrReplaceTempView(\"df_features_raw2\")"
   ]
  },
  {
   "cell_type": "code",
   "execution_count": 70,
   "metadata": {},
   "outputs": [],
   "source": [
    "cols = df_features_raw2.columns[1:-1]\n",
    "\n",
    "assembler = VectorAssembler(inputCols=cols, \n",
    "                            outputCol=\"Vec\")\n",
    "\n",
    "df_features_unnormalised2 = assembler.transform(df_features_raw2)"
   ]
  },
  {
   "cell_type": "code",
   "execution_count": 71,
   "metadata": {},
   "outputs": [],
   "source": [
    "df_features2 = scaler.transform(df_features_unnormalised2).select([\"features\", \"label\"])"
   ]
  },
  {
   "cell_type": "code",
   "execution_count": 72,
   "metadata": {},
   "outputs": [],
   "source": [
    "train2, validation2 = df_features2.randomSplit([0.8, 0.2], seed=5318008)"
   ]
  },
  {
   "cell_type": "code",
   "execution_count": 73,
   "metadata": {},
   "outputs": [],
   "source": [
    "train_results2 = cvModel_dt.transform(train2)"
   ]
  },
  {
   "cell_type": "code",
   "execution_count": 74,
   "metadata": {},
   "outputs": [
    {
     "name": "stderr",
     "output_type": "stream",
     "text": [
      "                                                                                \r"
     ]
    }
   ],
   "source": [
    "tp_train2 = train_results2.filter(\"label = 1 and prediction = 1\").count()\n",
    "fp_train2 = train_results2.filter(\"label = 0 and prediction = 1\").count()\n",
    "fn_train2 = train_results2.filter(\"label = 1 and prediction = 0\").count()\n",
    "tn_train2 = train_results2.filter(\"label = 0 and prediction = 0\").count()"
   ]
  },
  {
   "cell_type": "code",
   "execution_count": 75,
   "metadata": {},
   "outputs": [],
   "source": [
    "test_classifications2 = [tp_train2, \n",
    "                        tn_train2, \n",
    "                        fp_train2, \n",
    "                        fn_train2]"
   ]
  },
  {
   "cell_type": "markdown",
   "metadata": {},
   "source": [
    "Decision tree confusion matrix"
   ]
  },
  {
   "cell_type": "code",
   "execution_count": 76,
   "metadata": {},
   "outputs": [
    {
     "name": "stdout",
     "output_type": "stream",
     "text": [
      "[[ 19  13]\n",
      " [ 23 124]]\n"
     ]
    }
   ],
   "source": [
    "print_cm(*test_classifications2)"
   ]
  },
  {
   "cell_type": "markdown",
   "metadata": {},
   "source": [
    "Decision tree metrics"
   ]
  },
  {
   "cell_type": "code",
   "execution_count": 77,
   "metadata": {},
   "outputs": [
    {
     "name": "stdout",
     "output_type": "stream",
     "text": [
      "_________________\n",
      "\tAccuracy: 0.7988826815642458\n",
      "\tPrecision: 0.59375\n",
      "\tRecall: 0.4523809523809524\n",
      "\tF1 Score: 0.5135135135135135\n",
      "_________________\n"
     ]
    }
   ],
   "source": [
    "get_classification_score(*test_classifications2)"
   ]
  },
  {
   "cell_type": "code",
   "execution_count": 78,
   "metadata": {},
   "outputs": [
    {
     "name": "stderr",
     "output_type": "stream",
     "text": [
      "                                                                                \r"
     ]
    }
   ],
   "source": [
    "valid_results2 = cvModel_dt.transform(validation2)\n",
    "\n",
    "tp_valid2 = valid_results2.filter(\"label = 1 and prediction = 1\").count()\n",
    "fp_valid2 = valid_results2.filter(\"label = 0 and prediction = 1\").count()\n",
    "fn_valid2 = valid_results2.filter(\"label = 1 and prediction = 0\").count()\n",
    "tn_valid2 = valid_results2.filter(\"label = 0 and prediction = 0\").count()\n",
    "\n",
    "valid_classifications2 = [tp_valid2, \n",
    "                         tn_valid2, \n",
    "                         fp_valid2, \n",
    "                         fn_valid2]"
   ]
  },
  {
   "cell_type": "code",
   "execution_count": 79,
   "metadata": {},
   "outputs": [
    {
     "name": "stdout",
     "output_type": "stream",
     "text": [
      "[[ 7  1]\n",
      " [ 2 37]]\n"
     ]
    }
   ],
   "source": [
    "\n",
    "\n",
    "print_cm(*valid_classifications2)\n"
   ]
  },
  {
   "cell_type": "code",
   "execution_count": 80,
   "metadata": {},
   "outputs": [
    {
     "name": "stdout",
     "output_type": "stream",
     "text": [
      "_________________\n",
      "\tAccuracy: 0.9361702127659575\n",
      "\tPrecision: 0.875\n",
      "\tRecall: 0.7777777777777778\n",
      "\tF1 Score: 0.823529411764706\n",
      "_________________\n"
     ]
    }
   ],
   "source": [
    "get_classification_score(*valid_classifications2)"
   ]
  },
  {
   "cell_type": "code",
   "execution_count": 81,
   "metadata": {},
   "outputs": [
    {
     "data": {
      "text/plain": [
       "('gini', 6)"
      ]
     },
     "execution_count": 81,
     "metadata": {},
     "output_type": "execute_result"
    }
   ],
   "source": [
    "cvModel_dt.bestModel._java_obj.getImpurity(), cvModel_dt.bestModel._java_obj.getMaxDepth()"
   ]
  },
  {
   "cell_type": "markdown",
   "metadata": {},
   "source": [
    "We can see that decision tree model improves score significantly"
   ]
  }
 ],
 "metadata": {
  "interpreter": {
   "hash": "31f2aee4e71d21fbe5cf8b01ff0e069b9275f58929596ceb00d14d90e3e16cd6"
  },
  "kernelspec": {
   "display_name": "Python 3 (ipykernel)",
   "language": "python",
   "name": "python3"
  },
  "language_info": {
   "codemirror_mode": {
    "name": "ipython",
    "version": 3
   },
   "file_extension": ".py",
   "mimetype": "text/x-python",
   "name": "python",
   "nbconvert_exporter": "python",
   "pygments_lexer": "ipython3",
   "version": "3.9.7"
  },
  "orig_nbformat": 4
 },
 "nbformat": 4,
 "nbformat_minor": 2
}
